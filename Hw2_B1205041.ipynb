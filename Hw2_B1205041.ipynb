{
  "nbformat": 4,
  "nbformat_minor": 0,
  "metadata": {
    "colab": {
      "provenance": []
    },
    "kernelspec": {
      "name": "python3",
      "display_name": "Python 3"
    },
    "language_info": {
      "name": "python"
    }
  },
  "cells": [
    {
      "cell_type": "code",
      "execution_count": null,
      "metadata": {
        "id": "VKS3ZsMJ_Kzl"
      },
      "outputs": [],
      "source": [
        "for i in range(1,10):\n",
        "  for j in range(1,10) :\n",
        "    product=i*j\n",
        "    print(f\"{i}X{j}={product}\")"
      ]
    },
    {
      "cell_type": "code",
      "source": [
        "import random\n",
        "target_number = random.randint(1,100)\n",
        "\n",
        "print(\"歡迎參加猜數字遊戲！\")\n",
        "\n",
        "while True:\n",
        "  a = int(input('輸入數字1-100'))\n",
        "  b = int(a)\n",
        "  if  b < target_number:\n",
        "     b =int(input('數字太小'))\n",
        "  elif b >target_number:\n",
        "     b =int(input('數字太大'))\n",
        "  elif b ==target_number:\n",
        "    print(\"恭喜答對\")\n",
        "    break\n",
        "print('遊戲結束')"
      ],
      "metadata": {
        "colab": {
          "base_uri": "https://localhost:8080/"
        },
        "id": "4aDom0ImCMZi",
        "outputId": "e784606e-c97a-4946-9a87-e641dcabaa87"
      },
      "execution_count": 27,
      "outputs": [
        {
          "output_type": "stream",
          "name": "stdout",
          "text": [
            "歡迎參加猜數字遊戲！\n",
            "輸入數字1-10010\n",
            "數字太小50\n",
            "輸入數字1-10020\n",
            "數字太小80\n",
            "輸入數字1-10090\n",
            "數字太大85\n",
            "輸入數字1-10083\n",
            "數字太大81\n",
            "輸入數字1-10080\n",
            "數字太大70\n",
            "輸入數字1-10070\n",
            "數字太大60\n",
            "輸入數字1-10055\n",
            "數字太大50\n",
            "輸入數字1-10040\n",
            "恭喜答對\n",
            "遊戲結束\n"
          ]
        }
      ]
    }
  ]
}