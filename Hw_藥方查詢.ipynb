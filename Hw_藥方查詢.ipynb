{
  "nbformat": 4,
  "nbformat_minor": 0,
  "metadata": {
    "colab": {
      "provenance": []
    },
    "kernelspec": {
      "name": "python3",
      "display_name": "Python 3"
    },
    "language_info": {
      "name": "python"
    }
  },
  "cells": [
    {
      "cell_type": "code",
      "execution_count": 2,
      "metadata": {
        "colab": {
          "base_uri": "https://localhost:8080/"
        },
        "id": "coL00IbHCnxs",
        "outputId": "a38850bb-b45f-4874-81f1-b7aa2c4d9ba2"
      },
      "outputs": [
        {
          "output_type": "stream",
          "name": "stdout",
          "text": [
            "\n",
            "您想查詢什麼？(藥方名稱/出典/處方/效能/適應症/退出查詢)：效能\n",
            "烏藥順氣散的效能是:順氣宣散，祛風化痰\n",
            "\n",
            "您想查詢什麼？(藥方名稱/出典/處方/效能/適應症/退出查詢)：退出查詢\n",
            "感謝使用，再見！\n"
          ]
        }
      ],
      "source": [
        "# 定義烏藥順氣散的資料\n",
        "prescription = {\n",
        "    '名稱': '烏藥順氣散',\n",
        "    '出典': '太平惠民和劑局方',\n",
        "    '處方': {\n",
        "        '麻黃': 4,  # 公克\n",
        "        '陳皮': 4,\n",
        "        '烏藥': 4,\n",
        "        '川芎': 2,\n",
        "        '白殭蠶': 2,\n",
        "        '枳殼': 2,\n",
        "        '白芷': 2,\n",
        "        '甘草': 2,\n",
        "        '桔梗': 2,\n",
        "        '乾薑': 1,\n",
        "        '生薑': 3,\n",
        "        '大棗': 1\n",
        "    },\n",
        "    '效能': '順氣宣散，祛風化痰',\n",
        "    '適應症': ['遍身頑麻', '骨節疼痛', '步履艱難', '語言蹇澀', '口眼喎斜', '筋脈拘攣']\n",
        "}\n",
        "\n",
        "# 使用 while 迴圈提供查詢服務\n",
        "while True:\n",
        "    query = input(\"\\n您想查詢什麼？(藥方名稱/出典/處方/效能/適應症/退出查詢)：\")\n",
        "\n",
        "    if query == \"藥方名稱\":\n",
        "        print(f\"{prescription['名稱']}\")\n",
        "    elif query == \"出典\":\n",
        "        print(f\"{prescription['名稱']}的出典為:{prescription['出典']}\")\n",
        "    elif query == \"適應症\":\n",
        "        print(f\"{prescription['名稱']}的適應症有:\")\n",
        "        for symptom in prescription['適應症']:\n",
        "            print(symptom)\n",
        "    elif query == \"處方\":\n",
        "        total_weight = sum(prescription['處方'].values())\n",
        "        print(f\"{prescription['名稱']}的處方為:\")\n",
        "        for medicine, weight in prescription['處方'].items():\n",
        "            print(f\"{medicine}：{weight}公克\")\n",
        "        print(f\"總克數為：{total_weight}公克\")\n",
        "    elif query == \"效能\":\n",
        "        print(f\"{prescription['名稱']}的效能是:{prescription['效能']}\")\n",
        "    elif query == \"退出查詢\":\n",
        "        print(\"感謝使用，再見！\")\n",
        "        break\n",
        "    else:\n",
        "        print(\"輸入無效，請重新輸入。\")"
      ]
    }
  ]
}